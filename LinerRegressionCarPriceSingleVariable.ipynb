{
 "cells": [
  {
   "cell_type": "markdown",
   "metadata": {},
   "source": [
    "## Library Imports"
   ]
  },
  {
   "cell_type": "code",
   "execution_count": 1,
   "metadata": {
    "ExecuteTime": {
     "end_time": "2019-10-31T09:25:56.762821Z",
     "start_time": "2019-10-31T09:25:49.527201Z"
    }
   },
   "outputs": [],
   "source": [
    "import pandas as pd\n",
    "import matplotlib.pyplot as plt\n",
    "\n",
    "from sklearn.linear_model import LinearRegression"
   ]
  },
  {
   "cell_type": "markdown",
   "metadata": {},
   "source": [
    "## Read Data"
   ]
  },
  {
   "cell_type": "code",
   "execution_count": 2,
   "metadata": {
    "ExecuteTime": {
     "end_time": "2019-10-31T09:25:56.805549Z",
     "start_time": "2019-10-31T09:25:56.762821Z"
    }
   },
   "outputs": [
    {
     "data": {
      "text/html": [
       "<div>\n",
       "<style scoped>\n",
       "    .dataframe tbody tr th:only-of-type {\n",
       "        vertical-align: middle;\n",
       "    }\n",
       "\n",
       "    .dataframe tbody tr th {\n",
       "        vertical-align: top;\n",
       "    }\n",
       "\n",
       "    .dataframe thead th {\n",
       "        text-align: right;\n",
       "    }\n",
       "</style>\n",
       "<table border=\"1\" class=\"dataframe\">\n",
       "  <thead>\n",
       "    <tr style=\"text-align: right;\">\n",
       "      <th></th>\n",
       "      <th>km_driven</th>\n",
       "      <th>new_price</th>\n",
       "      <th>year</th>\n",
       "      <th>engine_power</th>\n",
       "      <th>resale_price</th>\n",
       "    </tr>\n",
       "  </thead>\n",
       "  <tbody>\n",
       "    <tr>\n",
       "      <td>0</td>\n",
       "      <td>16862</td>\n",
       "      <td>6.07</td>\n",
       "      <td>2019</td>\n",
       "      <td>81.80</td>\n",
       "      <td>6.06</td>\n",
       "    </tr>\n",
       "    <tr>\n",
       "      <td>1</td>\n",
       "      <td>18335</td>\n",
       "      <td>4.61</td>\n",
       "      <td>2018</td>\n",
       "      <td>67.00</td>\n",
       "      <td>4.50</td>\n",
       "    </tr>\n",
       "    <tr>\n",
       "      <td>2</td>\n",
       "      <td>15379</td>\n",
       "      <td>7.17</td>\n",
       "      <td>2019</td>\n",
       "      <td>83.83</td>\n",
       "      <td>6.97</td>\n",
       "    </tr>\n",
       "    <tr>\n",
       "      <td>3</td>\n",
       "      <td>28371</td>\n",
       "      <td>4.98</td>\n",
       "      <td>2017</td>\n",
       "      <td>73.00</td>\n",
       "      <td>4.74</td>\n",
       "    </tr>\n",
       "    <tr>\n",
       "      <td>4</td>\n",
       "      <td>32539</td>\n",
       "      <td>8.63</td>\n",
       "      <td>2018</td>\n",
       "      <td>88.50</td>\n",
       "      <td>8.39</td>\n",
       "    </tr>\n",
       "  </tbody>\n",
       "</table>\n",
       "</div>"
      ],
      "text/plain": [
       "   km_driven  new_price  year  engine_power  resale_price\n",
       "0      16862       6.07  2019         81.80          6.06\n",
       "1      18335       4.61  2018         67.00          4.50\n",
       "2      15379       7.17  2019         83.83          6.97\n",
       "3      28371       4.98  2017         73.00          4.74\n",
       "4      32539       8.63  2018         88.50          8.39"
      ]
     },
     "execution_count": 2,
     "metadata": {},
     "output_type": "execute_result"
    }
   ],
   "source": [
    "df=pd.read_csv('CarResalePrice.csv')\n",
    "df.head()"
   ]
  },
  {
   "cell_type": "markdown",
   "metadata": {
    "ExecuteTime": {
     "end_time": "2019-10-31T08:50:50.752534Z",
     "start_time": "2019-10-31T08:50:50.748532Z"
    }
   },
   "source": [
    "## Dependent and Independent Variable Selection"
   ]
  },
  {
   "cell_type": "code",
   "execution_count": 3,
   "metadata": {
    "ExecuteTime": {
     "end_time": "2019-10-31T09:25:56.819043Z",
     "start_time": "2019-10-31T09:25:56.810536Z"
    }
   },
   "outputs": [],
   "source": [
    "X=df.drop(['resale_price','km_driven','year','engine_power'],axis=1)\n",
    "y=df.resale_price"
   ]
  },
  {
   "cell_type": "markdown",
   "metadata": {
    "ExecuteTime": {
     "end_time": "2019-10-31T08:51:42.080256Z",
     "start_time": "2019-10-31T08:51:42.075750Z"
    }
   },
   "source": [
    "## Fitting Linear Regression Model"
   ]
  },
  {
   "cell_type": "code",
   "execution_count": 4,
   "metadata": {
    "ExecuteTime": {
     "end_time": "2019-10-31T09:25:56.852571Z",
     "start_time": "2019-10-31T09:25:56.826047Z"
    }
   },
   "outputs": [
    {
     "data": {
      "text/plain": [
       "LinearRegression(copy_X=True, fit_intercept=True, n_jobs=None, normalize=False)"
      ]
     },
     "execution_count": 4,
     "metadata": {},
     "output_type": "execute_result"
    }
   ],
   "source": [
    "model=LinearRegression()\n",
    "model.fit(X,y)"
   ]
  },
  {
   "cell_type": "markdown",
   "metadata": {},
   "source": [
    "## Linear Regression Equation"
   ]
  },
  {
   "cell_type": "code",
   "execution_count": 5,
   "metadata": {
    "ExecuteTime": {
     "end_time": "2019-10-31T09:25:56.868077Z",
     "start_time": "2019-10-31T09:25:56.858072Z"
    }
   },
   "outputs": [
    {
     "data": {
      "text/plain": [
       "array([0.55961387])"
      ]
     },
     "execution_count": 5,
     "metadata": {},
     "output_type": "execute_result"
    }
   ],
   "source": [
    "model.coef_"
   ]
  },
  {
   "cell_type": "code",
   "execution_count": 6,
   "metadata": {
    "ExecuteTime": {
     "end_time": "2019-10-31T09:25:56.881587Z",
     "start_time": "2019-10-31T09:25:56.872580Z"
    }
   },
   "outputs": [
    {
     "data": {
      "text/plain": [
       "1.089494081895774"
      ]
     },
     "execution_count": 6,
     "metadata": {},
     "output_type": "execute_result"
    }
   ],
   "source": [
    "model.intercept_"
   ]
  },
  {
   "cell_type": "code",
   "execution_count": 7,
   "metadata": {
    "ExecuteTime": {
     "end_time": "2019-10-31T09:25:56.900100Z",
     "start_time": "2019-10-31T09:25:56.886590Z"
    },
    "scrolled": true
   },
   "outputs": [
    {
     "name": "stdout",
     "output_type": "stream",
     "text": [
      "y=mx+c\n",
      "where,\n",
      "\tm=0.5596138731347401\n",
      "\tc=1.089494081895774\n"
     ]
    }
   ],
   "source": [
    "m=model.coef_[0]\n",
    "c=model.intercept_\n",
    "\n",
    "print(\"y=mx+c\\nwhere,\")\n",
    "print(f\"\\tm={m}\")\n",
    "print(f\"\\tc={c}\")"
   ]
  },
  {
   "cell_type": "markdown",
   "metadata": {
    "ExecuteTime": {
     "end_time": "2019-10-31T09:07:31.632518Z",
     "start_time": "2019-10-31T09:07:31.628497Z"
    }
   },
   "source": [
    "## Model Evaluation"
   ]
  },
  {
   "cell_type": "code",
   "execution_count": 8,
   "metadata": {
    "ExecuteTime": {
     "end_time": "2019-10-31T09:25:56.919112Z",
     "start_time": "2019-10-31T09:25:56.906104Z"
    }
   },
   "outputs": [
    {
     "data": {
      "text/plain": [
       "0.8164123342701323"
      ]
     },
     "execution_count": 8,
     "metadata": {},
     "output_type": "execute_result"
    }
   ],
   "source": [
    "model.score(X,y)"
   ]
  },
  {
   "cell_type": "markdown",
   "metadata": {
    "ExecuteTime": {
     "end_time": "2019-10-31T09:09:09.338030Z",
     "start_time": "2019-10-31T09:09:09.322422Z"
    }
   },
   "source": [
    "## Predicting Resale Price"
   ]
  },
  {
   "cell_type": "code",
   "execution_count": 9,
   "metadata": {
    "ExecuteTime": {
     "end_time": "2019-10-31T09:25:56.933124Z",
     "start_time": "2019-10-31T09:25:56.923616Z"
    }
   },
   "outputs": [
    {
     "data": {
      "text/plain": [
       "array([5.28659813])"
      ]
     },
     "execution_count": 9,
     "metadata": {},
     "output_type": "execute_result"
    }
   ],
   "source": [
    "model.predict([[7.5]])"
   ]
  },
  {
   "cell_type": "markdown",
   "metadata": {},
   "source": [
    "## Plotting Regression Line"
   ]
  },
  {
   "cell_type": "code",
   "execution_count": 10,
   "metadata": {
    "ExecuteTime": {
     "end_time": "2019-10-31T09:25:57.412463Z",
     "start_time": "2019-10-31T09:25:56.940631Z"
    }
   },
   "outputs": [
    {
     "data": {
      "image/png": "[encoded data removed]",
      "text/plain": [
       "<Figure size 720x432 with 1 Axes>"
      ]
     },
     "metadata": {
      "needs_background": "light"
     },
     "output_type": "display_data"
    }
   ],
   "source": [
    "y_pred=m*X+c\n",
    "\n",
    "plt.figure(figsize=(10,6))\n",
    "plt.scatter(X,y,alpha=0.5, label=\"Actual Resale Price\")\n",
    "plt.plot(X,y_pred, color='red', label=\"Predicted Resale Price\")\n",
    "plt.xlabel(\"Price of New Car\")\n",
    "plt.ylabel(\"Resale Price\")\n",
    "plt.legend()\n",
    "plt.title(\"Resale Price Prediction using Linear Regression\", fontsize=20)\n",
    "plt.show()"
   ]
  },
  {
   "cell_type": "code",
   "execution_count": null,
   "metadata": {},
   "outputs": [],
   "source": []
  }
 ],
 "metadata": {
  "kernelspec": {
   "display_name": "Python 3",
   "language": "python",
   "name": "python3"
  },
  "language_info": {
   "codemirror_mode": {
    "name": "ipython",
    "version": 3
   },
   "file_extension": ".py",
   "mimetype": "text/x-python",
   "name": "python",
   "nbconvert_exporter": "python",
   "pygments_lexer": "ipython3",
   "version": "3.7.4"
  }
 },
 "nbformat": 4,
 "nbformat_minor": 2
}
