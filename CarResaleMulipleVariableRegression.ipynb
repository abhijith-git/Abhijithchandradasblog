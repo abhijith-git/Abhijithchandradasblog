{
 "cells": [
  {
   "cell_type": "markdown",
   "metadata": {},
   "source": [
    "# LINEAR REGRESSION MULTIPLE FEATURES"
   ]
  },
  {
   "cell_type": "markdown",
   "metadata": {},
   "source": [
    "## Import Libraries"
   ]
  },
  {
   "cell_type": "code",
   "execution_count": 1,
   "metadata": {
    "ExecuteTime": {
     "end_time": "2019-10-31T23:23:16.303209Z",
     "start_time": "2019-10-31T23:23:14.073831Z"
    }
   },
   "outputs": [],
   "source": [
    "import pandas as pd\n",
    "from sklearn.linear_model import LinearRegression"
   ]
  },
  {
   "cell_type": "markdown",
   "metadata": {},
   "source": [
    "## Read Data from csv file"
   ]
  },
  {
   "cell_type": "code",
   "execution_count": 2,
   "metadata": {
    "ExecuteTime": {
     "end_time": "2019-10-31T23:23:20.326559Z",
     "start_time": "2019-10-31T23:23:20.285815Z"
    }
   },
   "outputs": [
    {
     "data": {
      "text/html": [
       "<div>\n",
       "<style scoped>\n",
       "    .dataframe tbody tr th:only-of-type {\n",
       "        vertical-align: middle;\n",
       "    }\n",
       "\n",
       "    .dataframe tbody tr th {\n",
       "        vertical-align: top;\n",
       "    }\n",
       "\n",
       "    .dataframe thead th {\n",
       "        text-align: right;\n",
       "    }\n",
       "</style>\n",
       "<table border=\"1\" class=\"dataframe\">\n",
       "  <thead>\n",
       "    <tr style=\"text-align: right;\">\n",
       "      <th></th>\n",
       "      <th>km_driven</th>\n",
       "      <th>new_price</th>\n",
       "      <th>year</th>\n",
       "      <th>engine_power</th>\n",
       "      <th>resale_price</th>\n",
       "    </tr>\n",
       "  </thead>\n",
       "  <tbody>\n",
       "    <tr>\n",
       "      <td>0</td>\n",
       "      <td>16862</td>\n",
       "      <td>6.07</td>\n",
       "      <td>2019</td>\n",
       "      <td>81.80</td>\n",
       "      <td>6.06</td>\n",
       "    </tr>\n",
       "    <tr>\n",
       "      <td>1</td>\n",
       "      <td>18335</td>\n",
       "      <td>4.61</td>\n",
       "      <td>2018</td>\n",
       "      <td>67.00</td>\n",
       "      <td>4.50</td>\n",
       "    </tr>\n",
       "    <tr>\n",
       "      <td>2</td>\n",
       "      <td>15379</td>\n",
       "      <td>7.17</td>\n",
       "      <td>2019</td>\n",
       "      <td>83.83</td>\n",
       "      <td>6.97</td>\n",
       "    </tr>\n",
       "    <tr>\n",
       "      <td>3</td>\n",
       "      <td>28371</td>\n",
       "      <td>4.98</td>\n",
       "      <td>2017</td>\n",
       "      <td>73.00</td>\n",
       "      <td>4.74</td>\n",
       "    </tr>\n",
       "    <tr>\n",
       "      <td>4</td>\n",
       "      <td>32539</td>\n",
       "      <td>8.63</td>\n",
       "      <td>2018</td>\n",
       "      <td>88.50</td>\n",
       "      <td>8.39</td>\n",
       "    </tr>\n",
       "  </tbody>\n",
       "</table>\n",
       "</div>"
      ],
      "text/plain": [
       "   km_driven  new_price  year  engine_power  resale_price\n",
       "0      16862       6.07  2019         81.80          6.06\n",
       "1      18335       4.61  2018         67.00          4.50\n",
       "2      15379       7.17  2019         83.83          6.97\n",
       "3      28371       4.98  2017         73.00          4.74\n",
       "4      32539       8.63  2018         88.50          8.39"
      ]
     },
     "execution_count": 2,
     "metadata": {},
     "output_type": "execute_result"
    }
   ],
   "source": [
    "df=pd.read_csv(\"CarResalePrice.csv\")\n",
    "df.head()"
   ]
  },
  {
   "cell_type": "markdown",
   "metadata": {},
   "source": [
    "## Selecting Features and Target"
   ]
  },
  {
   "cell_type": "code",
   "execution_count": 3,
   "metadata": {
    "ExecuteTime": {
     "end_time": "2019-10-31T23:23:27.404510Z",
     "start_time": "2019-10-31T23:23:27.373306Z"
    }
   },
   "outputs": [],
   "source": [
    "X=df.drop(\"resale_price\", axis=1) #features\n",
    "y=df.resale_price                 #target"
   ]
  },
  {
   "cell_type": "markdown",
   "metadata": {},
   "source": [
    "## Fitting Regression Model"
   ]
  },
  {
   "cell_type": "code",
   "execution_count": 4,
   "metadata": {
    "ExecuteTime": {
     "end_time": "2019-10-31T23:23:37.468159Z",
     "start_time": "2019-10-31T23:23:37.440142Z"
    }
   },
   "outputs": [
    {
     "data": {
      "text/plain": [
       "LinearRegression(copy_X=True, fit_intercept=True, n_jobs=None, normalize=False)"
      ]
     },
     "execution_count": 4,
     "metadata": {},
     "output_type": "execute_result"
    }
   ],
   "source": [
    "model=LinearRegression()\n",
    "model.fit(X,y)"
   ]
  },
  {
   "cell_type": "markdown",
   "metadata": {},
   "source": [
    "## Equation for Linear Regression"
   ]
  },
  {
   "cell_type": "code",
   "execution_count": 5,
   "metadata": {
    "ExecuteTime": {
     "end_time": "2019-10-31T23:23:45.640229Z",
     "start_time": "2019-10-31T23:23:45.622216Z"
    }
   },
   "outputs": [
    {
     "name": "stdout",
     "output_type": "stream",
     "text": [
      "Regression Equation\n",
      "y=-0.0x1+0.537x2+1.268x3+0.011x4+-2554.296\n"
     ]
    }
   ],
   "source": [
    "c=round(model.intercept_,3)\n",
    "m1= round(model.coef_[0],3)\n",
    "m2= round(model.coef_[1],3)\n",
    "m3= round(model.coef_[2],3)\n",
    "m4= round(model.coef_[3],3)\n",
    "\n",
    "print(\"Regression Equation\")\n",
    "print(f\"y={m1}x1+{m2}x2+{m3}x3+{m4}x4+{c}\")"
   ]
  },
  {
   "cell_type": "code",
   "execution_count": 6,
   "metadata": {
    "ExecuteTime": {
     "end_time": "2019-10-31T23:23:51.879003Z",
     "start_time": "2019-10-31T23:23:51.870996Z"
    }
   },
   "outputs": [
    {
     "data": {
      "text/plain": [
       "-2.309518450556409e-05"
      ]
     },
     "execution_count": 6,
     "metadata": {},
     "output_type": "execute_result"
    }
   ],
   "source": [
    "model.coef_[0]"
   ]
  },
  {
   "cell_type": "markdown",
   "metadata": {},
   "source": [
    "## Model Evaluation and Prediction"
   ]
  },
  {
   "cell_type": "code",
   "execution_count": 7,
   "metadata": {
    "ExecuteTime": {
     "end_time": "2019-10-31T23:24:03.625537Z",
     "start_time": "2019-10-31T23:24:03.609912Z"
    }
   },
   "outputs": [
    {
     "data": {
      "text/plain": [
       "0.8906425502750823"
      ]
     },
     "execution_count": 7,
     "metadata": {},
     "output_type": "execute_result"
    }
   ],
   "source": [
    "model.score(X,y)"
   ]
  },
  {
   "cell_type": "code",
   "execution_count": 8,
   "metadata": {
    "ExecuteTime": {
     "end_time": "2019-10-31T23:24:06.615355Z",
     "start_time": "2019-10-31T23:24:06.607349Z"
    }
   },
   "outputs": [
    {
     "data": {
      "text/plain": [
       "array([12.30709871])"
      ]
     },
     "execution_count": 8,
     "metadata": {},
     "output_type": "execute_result"
    }
   ],
   "source": [
    "model.predict([[40000,20,2016,100]])"
   ]
  }
 ],
 "metadata": {
  "kernelspec": {
   "display_name": "Python 3",
   "language": "python",
   "name": "python3"
  },
  "language_info": {
   "codemirror_mode": {
    "name": "ipython",
    "version": 3
   },
   "file_extension": ".py",
   "mimetype": "text/x-python",
   "name": "python",
   "nbconvert_exporter": "python",
   "pygments_lexer": "ipython3",
   "version": "3.7.4"
  }
 },
 "nbformat": 4,
 "nbformat_minor": 2
}
