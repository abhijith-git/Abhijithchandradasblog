{
 "cells": [
  {
   "cell_type": "markdown",
   "metadata": {},
   "source": [
    "## TWITTER SENTIMENT ANALYSIS IN PYTHON WITH TextBlob AND tweepy"
   ]
  },
  {
   "cell_type": "markdown",
   "metadata": {},
   "source": [
    "### Import Libraries"
   ]
  },
  {
   "cell_type": "code",
   "execution_count": 1,
   "metadata": {
    "ExecuteTime": {
     "end_time": "2019-10-28T09:00:19.092432Z",
     "start_time": "2019-10-28T09:00:16.311151Z"
    }
   },
   "outputs": [],
   "source": [
    "from textblob import TextBlob\n",
    "import tweepy\n",
    "import numpy as np\n",
    "import matplotlib.pyplot as plt"
   ]
  },
  {
   "cell_type": "markdown",
   "metadata": {},
   "source": [
    "### Authenticate Python Application with Twitter"
   ]
  },
  {
   "cell_type": "code",
   "execution_count": 2,
   "metadata": {
    "ExecuteTime": {
     "end_time": "2019-10-28T09:00:19.119323Z",
     "start_time": "2019-10-28T09:00:19.092432Z"
    }
   },
   "outputs": [],
   "source": [
    "consumer_key='XXXXXXXX'\n",
    "secret_key='XXXXXXXX'\n",
    "access_token='XXXXXXXX'\n",
    "access_token_secret='XXXXXXXX'\n",
    "\n",
    "auth=tweepy.OAuthHandler(consumer_key,secret_key)\n",
    "auth.set_access_token(access_token,access_token_secret)"
   ]
  },
  {
   "cell_type": "markdown",
   "metadata": {},
   "source": [
    "### Reading Tweets"
   ]
  },
  {
   "cell_type": "code",
   "execution_count": 3,
   "metadata": {
    "ExecuteTime": {
     "end_time": "2019-10-28T09:00:21.049398Z",
     "start_time": "2019-10-28T09:00:19.127334Z"
    }
   },
   "outputs": [],
   "source": [
    "api=tweepy.API(auth)\n",
    "public_tweets=api.search('trump', count=100, lang='en')"
   ]
  },
  {
   "cell_type": "markdown",
   "metadata": {},
   "source": [
    "### Analyzing Sentiment Polarity and Subjectivity"
   ]
  },
  {
   "cell_type": "code",
   "execution_count": 4,
   "metadata": {
    "ExecuteTime": {
     "end_time": "2019-10-28T09:00:21.272715Z",
     "start_time": "2019-10-28T09:00:21.049398Z"
    }
   },
   "outputs": [],
   "source": [
    "pol=[]           \n",
    "sub=[]\n",
    "pos_count=0\n",
    "neg_count=0\n",
    "neut_count=0\n",
    "\n",
    "for tweet in public_tweets:\n",
    "    analysis=TextBlob(tweet.text)\n",
    "\n",
    "    if(analysis.sentiment.polarity>0):\n",
    "        pos_count+=1\n",
    "    elif(analysis.sentiment.polarity< 0):\n",
    "        neg_count+=1\n",
    "    else:\n",
    "        neut_count+=1\n",
    "        \n",
    "    pol.append(analysis.sentiment.polarity)\n",
    "    sub.append(analysis.sentiment.subjectivity)"
   ]
  },
  {
   "cell_type": "markdown",
   "metadata": {},
   "source": [
    "### Data Representation"
   ]
  },
  {
   "cell_type": "code",
   "execution_count": 5,
   "metadata": {
    "ExecuteTime": {
     "end_time": "2019-10-28T09:00:21.426825Z",
     "start_time": "2019-10-28T09:00:21.275218Z"
    }
   },
   "outputs": [
    {
     "name": "stdout",
     "output_type": "stream",
     "text": [
      "Average Polarity: 0.091\n",
      "Average Subjectivity: 0.349\n"
     ]
    },
    {
     "data": {
      "image/png": "[encoded data removed]",
      "text/plain": [
       "<Figure size 432x288 with 1 Axes>"
      ]
     },
     "metadata": {},
     "output_type": "display_data"
    }
   ],
   "source": [
    "pol_avg = round(np.array(pol).mean(),3)\n",
    "sub_avg= round(np.array(sub).mean(),3)\n",
    "\n",
    "print(f\"Average Polarity: {pol_avg}\\nAverage Subjectivity: {sub_avg}\")\n",
    "\n",
    "data=[pos_count, neg_count, neut_count]\n",
    "labels= [\"Positive\", \"Negative\", \"Neutral\"]\n",
    "plt.pie(x=data, labels=labels, startangle=90, autopct='%1.2f%%')\n",
    "plt.title(\"TRUMP SENTIMENT ANALYSIS\",fontsize=15)\n",
    "plt.show()"
   ]
  }
 ],
 "metadata": {
  "kernelspec": {
   "display_name": "Python 3",
   "language": "python",
   "name": "python3"
  },
  "language_info": {
   "codemirror_mode": {
    "name": "ipython",
    "version": 3
   },
   "file_extension": ".py",
   "mimetype": "text/x-python",
   "name": "python",
   "nbconvert_exporter": "python",
   "pygments_lexer": "ipython3",
   "version": "3.7.4"
  }
 },
 "nbformat": 4,
 "nbformat_minor": 2
}
